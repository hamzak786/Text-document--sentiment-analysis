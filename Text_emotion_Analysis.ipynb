{
 "cells": [
  {
   "cell_type": "code",
   "execution_count": 4,
   "id": "2bb88311",
   "metadata": {},
   "outputs": [
    {
     "name": "stdout",
     "output_type": "stream",
     "text": [
      "Requirement already satisfied: tensorflow in c:\\users\\asus\\anaconda3\\lib\\site-packages (2.15.0)Note: you may need to restart the kernel to use updated packages.\n",
      "\n",
      "Requirement already satisfied: tensorflow-intel==2.15.0 in c:\\users\\asus\\anaconda3\\lib\\site-packages (from tensorflow) (2.15.0)\n",
      "Requirement already satisfied: absl-py>=1.0.0 in c:\\users\\asus\\anaconda3\\lib\\site-packages (from tensorflow-intel==2.15.0->tensorflow) (2.1.0)\n",
      "Requirement already satisfied: astunparse>=1.6.0 in c:\\users\\asus\\anaconda3\\lib\\site-packages (from tensorflow-intel==2.15.0->tensorflow) (1.6.3)\n",
      "Requirement already satisfied: flatbuffers>=23.5.26 in c:\\users\\asus\\anaconda3\\lib\\site-packages (from tensorflow-intel==2.15.0->tensorflow) (23.5.26)\n",
      "Requirement already satisfied: gast!=0.5.0,!=0.5.1,!=0.5.2,>=0.2.1 in c:\\users\\asus\\anaconda3\\lib\\site-packages (from tensorflow-intel==2.15.0->tensorflow) (0.5.4)\n",
      "Requirement already satisfied: google-pasta>=0.1.1 in c:\\users\\asus\\anaconda3\\lib\\site-packages (from tensorflow-intel==2.15.0->tensorflow) (0.2.0)\n",
      "Requirement already satisfied: h5py>=2.9.0 in c:\\users\\asus\\anaconda3\\lib\\site-packages (from tensorflow-intel==2.15.0->tensorflow) (3.7.0)\n",
      "Requirement already satisfied: libclang>=13.0.0 in c:\\users\\asus\\anaconda3\\lib\\site-packages (from tensorflow-intel==2.15.0->tensorflow) (16.0.6)\n",
      "Requirement already satisfied: ml-dtypes~=0.2.0 in c:\\users\\asus\\anaconda3\\lib\\site-packages (from tensorflow-intel==2.15.0->tensorflow) (0.2.0)\n",
      "Requirement already satisfied: numpy<2.0.0,>=1.23.5 in c:\\users\\asus\\anaconda3\\lib\\site-packages (from tensorflow-intel==2.15.0->tensorflow) (1.24.3)\n",
      "Requirement already satisfied: opt-einsum>=2.3.2 in c:\\users\\asus\\anaconda3\\lib\\site-packages (from tensorflow-intel==2.15.0->tensorflow) (3.3.0)\n",
      "Requirement already satisfied: packaging in c:\\users\\asus\\anaconda3\\lib\\site-packages (from tensorflow-intel==2.15.0->tensorflow) (23.0)\n",
      "Requirement already satisfied: protobuf!=4.21.0,!=4.21.1,!=4.21.2,!=4.21.3,!=4.21.4,!=4.21.5,<5.0.0dev,>=3.20.3 in c:\\users\\asus\\anaconda3\\lib\\site-packages (from tensorflow-intel==2.15.0->tensorflow) (4.24.4)\n",
      "Requirement already satisfied: setuptools in c:\\users\\asus\\anaconda3\\lib\\site-packages (from tensorflow-intel==2.15.0->tensorflow) (68.0.0)\n",
      "Requirement already satisfied: six>=1.12.0 in c:\\users\\asus\\anaconda3\\lib\\site-packages (from tensorflow-intel==2.15.0->tensorflow) (1.16.0)\n",
      "Requirement already satisfied: termcolor>=1.1.0 in c:\\users\\asus\\anaconda3\\lib\\site-packages (from tensorflow-intel==2.15.0->tensorflow) (2.4.0)\n",
      "Requirement already satisfied: typing-extensions>=3.6.6 in c:\\users\\asus\\anaconda3\\lib\\site-packages (from tensorflow-intel==2.15.0->tensorflow) (4.7.1)\n",
      "Requirement already satisfied: wrapt<1.15,>=1.11.0 in c:\\users\\asus\\anaconda3\\lib\\site-packages (from tensorflow-intel==2.15.0->tensorflow) (1.14.1)\n",
      "Requirement already satisfied: tensorflow-io-gcs-filesystem>=0.23.1 in c:\\users\\asus\\anaconda3\\lib\\site-packages (from tensorflow-intel==2.15.0->tensorflow) (0.31.0)\n",
      "Requirement already satisfied: grpcio<2.0,>=1.24.3 in c:\\users\\asus\\anaconda3\\lib\\site-packages (from tensorflow-intel==2.15.0->tensorflow) (1.62.0)\n",
      "Requirement already satisfied: tensorboard<2.16,>=2.15 in c:\\users\\asus\\anaconda3\\lib\\site-packages (from tensorflow-intel==2.15.0->tensorflow) (2.15.2)\n",
      "Requirement already satisfied: tensorflow-estimator<2.16,>=2.15.0 in c:\\users\\asus\\anaconda3\\lib\\site-packages (from tensorflow-intel==2.15.0->tensorflow) (2.15.0)\n",
      "Requirement already satisfied: keras<2.16,>=2.15.0 in c:\\users\\asus\\anaconda3\\lib\\site-packages (from tensorflow-intel==2.15.0->tensorflow) (2.15.0)\n",
      "Requirement already satisfied: wheel<1.0,>=0.23.0 in c:\\users\\asus\\anaconda3\\lib\\site-packages (from astunparse>=1.6.0->tensorflow-intel==2.15.0->tensorflow) (0.38.4)\n",
      "Requirement already satisfied: google-auth<3,>=1.6.3 in c:\\users\\asus\\anaconda3\\lib\\site-packages (from tensorboard<2.16,>=2.15->tensorflow-intel==2.15.0->tensorflow) (2.23.2)\n",
      "Requirement already satisfied: google-auth-oauthlib<2,>=0.5 in c:\\users\\asus\\anaconda3\\lib\\site-packages (from tensorboard<2.16,>=2.15->tensorflow-intel==2.15.0->tensorflow) (1.2.0)\n",
      "Requirement already satisfied: markdown>=2.6.8 in c:\\users\\asus\\anaconda3\\lib\\site-packages (from tensorboard<2.16,>=2.15->tensorflow-intel==2.15.0->tensorflow) (3.4.1)\n",
      "Requirement already satisfied: requests<3,>=2.21.0 in c:\\users\\asus\\anaconda3\\lib\\site-packages (from tensorboard<2.16,>=2.15->tensorflow-intel==2.15.0->tensorflow) (2.31.0)\n",
      "Requirement already satisfied: tensorboard-data-server<0.8.0,>=0.7.0 in c:\\users\\asus\\anaconda3\\lib\\site-packages (from tensorboard<2.16,>=2.15->tensorflow-intel==2.15.0->tensorflow) (0.7.2)\n",
      "Requirement already satisfied: werkzeug>=1.0.1 in c:\\users\\asus\\anaconda3\\lib\\site-packages (from tensorboard<2.16,>=2.15->tensorflow-intel==2.15.0->tensorflow) (2.2.3)\n",
      "Requirement already satisfied: cachetools<6.0,>=2.0.0 in c:\\users\\asus\\anaconda3\\lib\\site-packages (from google-auth<3,>=1.6.3->tensorboard<2.16,>=2.15->tensorflow-intel==2.15.0->tensorflow) (5.3.1)\n",
      "Requirement already satisfied: pyasn1-modules>=0.2.1 in c:\\users\\asus\\anaconda3\\lib\\site-packages (from google-auth<3,>=1.6.3->tensorboard<2.16,>=2.15->tensorflow-intel==2.15.0->tensorflow) (0.2.8)\n",
      "Requirement already satisfied: rsa<5,>=3.1.4 in c:\\users\\asus\\anaconda3\\lib\\site-packages (from google-auth<3,>=1.6.3->tensorboard<2.16,>=2.15->tensorflow-intel==2.15.0->tensorflow) (4.9)\n",
      "Requirement already satisfied: requests-oauthlib>=0.7.0 in c:\\users\\asus\\anaconda3\\lib\\site-packages (from google-auth-oauthlib<2,>=0.5->tensorboard<2.16,>=2.15->tensorflow-intel==2.15.0->tensorflow) (1.3.1)\n",
      "Requirement already satisfied: charset-normalizer<4,>=2 in c:\\users\\asus\\anaconda3\\lib\\site-packages (from requests<3,>=2.21.0->tensorboard<2.16,>=2.15->tensorflow-intel==2.15.0->tensorflow) (2.0.4)\n",
      "Requirement already satisfied: idna<4,>=2.5 in c:\\users\\asus\\anaconda3\\lib\\site-packages (from requests<3,>=2.21.0->tensorboard<2.16,>=2.15->tensorflow-intel==2.15.0->tensorflow) (3.4)\n",
      "Requirement already satisfied: urllib3<3,>=1.21.1 in c:\\users\\asus\\anaconda3\\lib\\site-packages (from requests<3,>=2.21.0->tensorboard<2.16,>=2.15->tensorflow-intel==2.15.0->tensorflow) (1.26.16)\n",
      "Requirement already satisfied: certifi>=2017.4.17 in c:\\users\\asus\\anaconda3\\lib\\site-packages (from requests<3,>=2.21.0->tensorboard<2.16,>=2.15->tensorflow-intel==2.15.0->tensorflow) (2023.7.22)\n",
      "Requirement already satisfied: MarkupSafe>=2.1.1 in c:\\users\\asus\\anaconda3\\lib\\site-packages (from werkzeug>=1.0.1->tensorboard<2.16,>=2.15->tensorflow-intel==2.15.0->tensorflow) (2.1.1)\n",
      "Requirement already satisfied: pyasn1<0.5.0,>=0.4.6 in c:\\users\\asus\\anaconda3\\lib\\site-packages (from pyasn1-modules>=0.2.1->google-auth<3,>=1.6.3->tensorboard<2.16,>=2.15->tensorflow-intel==2.15.0->tensorflow) (0.4.8)\n",
      "Requirement already satisfied: oauthlib>=3.0.0 in c:\\users\\asus\\anaconda3\\lib\\site-packages (from requests-oauthlib>=0.7.0->google-auth-oauthlib<2,>=0.5->tensorboard<2.16,>=2.15->tensorflow-intel==2.15.0->tensorflow) (3.2.2)\n"
     ]
    }
   ],
   "source": [
    "pip install tensorflow"
   ]
  },
  {
   "cell_type": "code",
   "execution_count": 2,
   "id": "360cb0fc",
   "metadata": {},
   "outputs": [
    {
     "name": "stdout",
     "output_type": "stream",
     "text": [
      "Collecting keras\n",
      "  Obtaining dependency information for keras from https://files.pythonhosted.org/packages/b0/b2/104733bb67fde86f3d10010f0b5c93cfa1d5bf552f904584cf9e5b3ba719/keras-3.0.5-py3-none-any.whl.metadata\n",
      "  Downloading keras-3.0.5-py3-none-any.whl.metadata (4.8 kB)\n",
      "Collecting absl-py (from keras)\n",
      "  Obtaining dependency information for absl-py from https://files.pythonhosted.org/packages/a2/ad/e0d3c824784ff121c03cc031f944bc7e139a8f1870ffd2845cc2dd76f6c4/absl_py-2.1.0-py3-none-any.whl.metadata\n",
      "  Downloading absl_py-2.1.0-py3-none-any.whl.metadata (2.3 kB)\n",
      "Requirement already satisfied: numpy in c:\\users\\asus\\anaconda3\\lib\\site-packages (from keras) (1.24.3)\n",
      "Collecting rich (from keras)\n",
      "  Obtaining dependency information for rich from https://files.pythonhosted.org/packages/be/be/1520178fa01eabe014b16e72a952b9f900631142ccd03dc36cf93e30c1ce/rich-13.7.0-py3-none-any.whl.metadata\n",
      "  Downloading rich-13.7.0-py3-none-any.whl.metadata (18 kB)\n",
      "Collecting namex (from keras)\n",
      "  Obtaining dependency information for namex from https://files.pythonhosted.org/packages/cd/43/b971880e2eb45c0bee2093710ae8044764a89afe9620df34a231c6f0ecd2/namex-0.0.7-py3-none-any.whl.metadata\n",
      "  Downloading namex-0.0.7-py3-none-any.whl.metadata (246 bytes)\n",
      "Requirement already satisfied: h5py in c:\\users\\asus\\anaconda3\\lib\\site-packages (from keras) (3.7.0)\n",
      "Collecting dm-tree (from keras)\n",
      "  Obtaining dependency information for dm-tree from https://files.pythonhosted.org/packages/e4/c1/522041457444b67125ac9527208bb3148f63d7dce0a86ffa589ec763a10e/dm_tree-0.1.8-cp311-cp311-win_amd64.whl.metadata\n",
      "  Downloading dm_tree-0.1.8-cp311-cp311-win_amd64.whl.metadata (2.0 kB)\n",
      "Collecting ml-dtypes (from keras)\n",
      "  Obtaining dependency information for ml-dtypes from https://files.pythonhosted.org/packages/a4/db/1784b87285588788170f87e987bfb4bda218d62a70a81ebb66c94e7f9b95/ml_dtypes-0.3.2-cp311-cp311-win_amd64.whl.metadata\n",
      "  Downloading ml_dtypes-0.3.2-cp311-cp311-win_amd64.whl.metadata (20 kB)\n",
      "Requirement already satisfied: markdown-it-py>=2.2.0 in c:\\users\\asus\\anaconda3\\lib\\site-packages (from rich->keras) (2.2.0)\n",
      "Requirement already satisfied: pygments<3.0.0,>=2.13.0 in c:\\users\\asus\\anaconda3\\lib\\site-packages (from rich->keras) (2.15.1)\n",
      "Requirement already satisfied: mdurl~=0.1 in c:\\users\\asus\\anaconda3\\lib\\site-packages (from markdown-it-py>=2.2.0->rich->keras) (0.1.0)\n",
      "Downloading keras-3.0.5-py3-none-any.whl (1.0 MB)\n",
      "   ---------------------------------------- 0.0/1.0 MB ? eta -:--:--\n",
      "   ---------------------------------------- 0.0/1.0 MB ? eta -:--:--\n",
      "   - -------------------------------------- 0.0/1.0 MB 640.0 kB/s eta 0:00:02\n",
      "   - -------------------------------------- 0.0/1.0 MB 640.0 kB/s eta 0:00:02\n",
      "   - -------------------------------------- 0.0/1.0 MB 640.0 kB/s eta 0:00:02\n",
      "   - -------------------------------------- 0.0/1.0 MB 245.8 kB/s eta 0:00:05\n",
      "   - -------------------------------------- 0.0/1.0 MB 245.8 kB/s eta 0:00:05\n",
      "   - -------------------------------------- 0.0/1.0 MB 245.8 kB/s eta 0:00:05\n",
      "   - -------------------------------------- 0.0/1.0 MB 245.8 kB/s eta 0:00:05\n",
      "   ---- ----------------------------------- 0.1/1.0 MB 312.2 kB/s eta 0:00:03\n",
      "   ---- ----------------------------------- 0.1/1.0 MB 312.2 kB/s eta 0:00:03\n",
      "   ---- ----------------------------------- 0.1/1.0 MB 312.2 kB/s eta 0:00:03\n",
      "   ----- ---------------------------------- 0.1/1.0 MB 293.9 kB/s eta 0:00:04\n",
      "   ------ --------------------------------- 0.2/1.0 MB 297.7 kB/s eta 0:00:03\n",
      "   ------ --------------------------------- 0.2/1.0 MB 299.5 kB/s eta 0:00:03\n",
      "   ------- -------------------------------- 0.2/1.0 MB 318.9 kB/s eta 0:00:03\n",
      "   ------- -------------------------------- 0.2/1.0 MB 303.5 kB/s eta 0:00:03\n",
      "   -------- ------------------------------- 0.2/1.0 MB 320.0 kB/s eta 0:00:03\n",
      "   ---------- ----------------------------- 0.3/1.0 MB 355.0 kB/s eta 0:00:03\n",
      "   ---------- ----------------------------- 0.3/1.0 MB 355.0 kB/s eta 0:00:03\n",
      "   ----------- ---------------------------- 0.3/1.0 MB 351.8 kB/s eta 0:00:03\n",
      "   ------------ --------------------------- 0.3/1.0 MB 362.8 kB/s eta 0:00:02\n",
      "   ------------- -------------------------- 0.3/1.0 MB 355.4 kB/s eta 0:00:02\n",
      "   -------------- ------------------------- 0.4/1.0 MB 363.9 kB/s eta 0:00:02\n",
      "   --------------- ------------------------ 0.4/1.0 MB 372.9 kB/s eta 0:00:02\n",
      "   --------------- ------------------------ 0.4/1.0 MB 381.4 kB/s eta 0:00:02\n",
      "   ---------------- ----------------------- 0.4/1.0 MB 374.4 kB/s eta 0:00:02\n",
      "   ----------------- ---------------------- 0.5/1.0 MB 380.6 kB/s eta 0:00:02\n",
      "   ------------------ --------------------- 0.5/1.0 MB 387.9 kB/s eta 0:00:02\n",
      "   ------------------- -------------------- 0.5/1.0 MB 389.7 kB/s eta 0:00:02\n",
      "   -------------------- ------------------- 0.5/1.0 MB 394.8 kB/s eta 0:00:02\n",
      "   -------------------- ------------------- 0.5/1.0 MB 384.0 kB/s eta 0:00:02\n",
      "   --------------------- ------------------ 0.6/1.0 MB 390.2 kB/s eta 0:00:02\n",
      "   ---------------------- ----------------- 0.6/1.0 MB 391.7 kB/s eta 0:00:02\n",
      "   ----------------------- ---------------- 0.6/1.0 MB 399.9 kB/s eta 0:00:02\n",
      "   ----------------------- ---------------- 0.6/1.0 MB 390.5 kB/s eta 0:00:02\n",
      "   ------------------------ --------------- 0.6/1.0 MB 399.6 kB/s eta 0:00:01\n",
      "   ------------------------- -------------- 0.7/1.0 MB 395.5 kB/s eta 0:00:01\n",
      "   -------------------------- ------------- 0.7/1.0 MB 400.4 kB/s eta 0:00:01\n",
      "   -------------------------- ------------- 0.7/1.0 MB 395.4 kB/s eta 0:00:01\n",
      "   --------------------------- ------------ 0.7/1.0 MB 400.1 kB/s eta 0:00:01\n",
      "   ---------------------------- ----------- 0.7/1.0 MB 401.0 kB/s eta 0:00:01\n",
      "   ---------------------------- ----------- 0.7/1.0 MB 399.8 kB/s eta 0:00:01\n",
      "   ------------------------------ --------- 0.8/1.0 MB 402.7 kB/s eta 0:00:01\n",
      "   ------------------------------- -------- 0.8/1.0 MB 402.4 kB/s eta 0:00:01\n",
      "   -------------------------------- ------- 0.8/1.0 MB 403.1 kB/s eta 0:00:01\n",
      "   -------------------------------- ------- 0.8/1.0 MB 405.2 kB/s eta 0:00:01\n",
      "   --------------------------------- ------ 0.9/1.0 MB 404.8 kB/s eta 0:00:01\n",
      "   --------------------------------- ------ 0.9/1.0 MB 404.8 kB/s eta 0:00:01\n",
      "   ---------------------------------- ----- 0.9/1.0 MB 401.5 kB/s eta 0:00:01\n",
      "   ----------------------------------- ---- 0.9/1.0 MB 405.0 kB/s eta 0:00:01\n",
      "   ------------------------------------ --- 1.0/1.0 MB 407.3 kB/s eta 0:00:01\n",
      "   ------------------------------------ --- 1.0/1.0 MB 407.3 kB/s eta 0:00:01\n",
      "   ------------------------------------ --- 1.0/1.0 MB 407.3 kB/s eta 0:00:01\n",
      "   ------------------------------------ --- 1.0/1.0 MB 407.3 kB/s eta 0:00:01\n",
      "   -------------------------------------- - 1.0/1.0 MB 402.3 kB/s eta 0:00:01\n",
      "   ---------------------------------------  1.0/1.0 MB 396.3 kB/s eta 0:00:01\n",
      "   ---------------------------------------- 1.0/1.0 MB 401.4 kB/s eta 0:00:00\n",
      "Downloading absl_py-2.1.0-py3-none-any.whl (133 kB)\n",
      "   ---------------------------------------- 0.0/133.7 kB ? eta -:--:--\n",
      "   --- ------------------------------------ 10.2/133.7 kB ? eta -:--:--\n",
      "   -------- ------------------------------ 30.7/133.7 kB 660.6 kB/s eta 0:00:01\n",
      "   ----------- --------------------------- 41.0/133.7 kB 326.8 kB/s eta 0:00:01\n",
      "   -------------------- ------------------ 71.7/133.7 kB 393.8 kB/s eta 0:00:01\n",
      "   -------------------------- ------------ 92.2/133.7 kB 438.1 kB/s eta 0:00:01\n",
      "   -------------------------------- ----- 112.6/133.7 kB 437.6 kB/s eta 0:00:01\n",
      "   -------------------------------------- 133.7/133.7 kB 415.7 kB/s eta 0:00:00\n",
      "Downloading dm_tree-0.1.8-cp311-cp311-win_amd64.whl (101 kB)\n",
      "   ---------------------------------------- 0.0/101.3 kB ? eta -:--:--\n",
      "   ----------- --------------------------- 30.7/101.3 kB 660.6 kB/s eta 0:00:01\n",
      "   --------------- ----------------------- 41.0/101.3 kB 393.8 kB/s eta 0:00:01\n",
      "   ----------------------- --------------- 61.4/101.3 kB 469.7 kB/s eta 0:00:01\n",
      "   --------------------------- ----------- 71.7/101.3 kB 357.2 kB/s eta 0:00:01\n",
      "   -------------------------------------- 101.3/101.3 kB 416.0 kB/s eta 0:00:00\n",
      "Downloading ml_dtypes-0.3.2-cp311-cp311-win_amd64.whl (127 kB)\n",
      "   ---------------------------------------- 0.0/127.7 kB ? eta -:--:--\n",
      "   --------- ------------------------------ 30.7/127.7 kB 1.4 MB/s eta 0:00:01\n",
      "   --------- ------------------------------ 30.7/127.7 kB 1.4 MB/s eta 0:00:01\n",
      "   ------------------ -------------------- 61.4/127.7 kB 469.7 kB/s eta 0:00:01\n",
      "   ---------------------------- ---------- 92.2/127.7 kB 476.3 kB/s eta 0:00:01\n",
      "   ---------------------------- ---------- 92.2/127.7 kB 476.3 kB/s eta 0:00:01\n",
      "   --------------------------------- ---- 112.6/127.7 kB 437.6 kB/s eta 0:00:01\n",
      "   -------------------------------------- 127.7/127.7 kB 417.9 kB/s eta 0:00:00\n",
      "Downloading namex-0.0.7-py3-none-any.whl (5.8 kB)\n",
      "Downloading rich-13.7.0-py3-none-any.whl (240 kB)\n",
      "   ---------------------------------------- 0.0/240.6 kB ? eta -:--:--\n",
      "   - -------------------------------------- 10.2/240.6 kB ? eta -:--:--\n",
      "   ---- ---------------------------------- 30.7/240.6 kB 435.7 kB/s eta 0:00:01\n",
      "   ---- ---------------------------------- 30.7/240.6 kB 435.7 kB/s eta 0:00:01\n",
      "   --------- ----------------------------- 61.4/240.6 kB 328.2 kB/s eta 0:00:01\n",
      "   ----------- --------------------------- 71.7/240.6 kB 302.7 kB/s eta 0:00:01\n",
      "   ----------- --------------------------- 71.7/240.6 kB 302.7 kB/s eta 0:00:01\n",
      "   -------------- ------------------------ 92.2/240.6 kB 291.5 kB/s eta 0:00:01\n",
      "   ---------------- --------------------- 102.4/240.6 kB 267.9 kB/s eta 0:00:01\n",
      "   ------------------- ------------------ 122.9/240.6 kB 300.4 kB/s eta 0:00:01\n",
      "   ------------------- ------------------ 122.9/240.6 kB 300.4 kB/s eta 0:00:01\n",
      "   --------------------- ---------------- 133.1/240.6 kB 271.3 kB/s eta 0:00:01\n",
      "   ------------------------ ------------- 153.6/240.6 kB 286.7 kB/s eta 0:00:01\n",
      "   --------------------------- ---------- 174.1/240.6 kB 299.5 kB/s eta 0:00:01\n",
      "   ----------------------------- -------- 184.3/240.6 kB 285.4 kB/s eta 0:00:01\n",
      "   ----------------------------- -------- 184.3/240.6 kB 285.4 kB/s eta 0:00:01\n",
      "   ----------------------------- -------- 184.3/240.6 kB 285.4 kB/s eta 0:00:01\n",
      "   ----------------------------- -------- 184.3/240.6 kB 285.4 kB/s eta 0:00:01\n",
      "   --------------------------------- ---- 215.0/240.6 kB 251.9 kB/s eta 0:00:01\n",
      "   -------------------------------------- 240.6/240.6 kB 278.3 kB/s eta 0:00:00\n",
      "Installing collected packages: namex, dm-tree, ml-dtypes, absl-py, rich, keras\n",
      "Successfully installed absl-py-2.1.0 dm-tree-0.1.8 keras-3.0.5 ml-dtypes-0.3.2 namex-0.0.7 rich-13.7.0\n",
      "Note: you may need to restart the kernel to use updated packages.\n"
     ]
    }
   ],
   "source": [
    "pip install keras"
   ]
  },
  {
   "cell_type": "code",
   "execution_count": 4,
   "id": "4eb6e058",
   "metadata": {
    "scrolled": false
   },
   "outputs": [
    {
     "name": "stdout",
     "output_type": "stream",
     "text": [
      "                                                 Text  Emotions\n",
      "0   i can go from feeling so hopeless to so damned...   sadness\n",
      "1    im grabbing a minute to post i feel greedy wrong     anger\n",
      "2   i am ever feeling nostalgic about the fireplac...      love\n",
      "3                                i am feeling grouchy     anger\n",
      "4   ive been feeling a little burdened lately wasn...   sadness\n",
      "5   ive been taking or milligrams or times recomme...  surprise\n",
      "6   i feel as confused about life as a teenager or...      fear\n",
      "7   i have been with petronas for years i feel tha...       joy\n",
      "8                                 i feel romantic too      love\n",
      "9   i feel like i have to make the suffering i m s...   sadness\n",
      "10  i do feel that running is a divine experience ...       joy\n",
      "11  i think it s the easiest time of year to feel ...     anger\n"
     ]
    }
   ],
   "source": [
    "import pandas as pd\n",
    "import numpy as np\n",
    "import keras\n",
    "import tensorflow\n",
    "from keras.preprocessing.text import Tokenizer\n",
    "from tensorflow.keras.preprocessing.sequence import pad_sequences\n",
    "from sklearn.preprocessing import LabelEncoder\n",
    "from sklearn.model_selection import train_test_split\n",
    "from keras.models import Sequential\n",
    "from keras.layers import Embedding, Flatten, Dense\n",
    "\n",
    "\n",
    "data = pd.read_csv(\"train.txt\", sep=';')\n",
    "data.columns = [\"Text\", \"Emotions\"]\n",
    "print(data.head(12))"
   ]
  },
  {
   "cell_type": "code",
   "execution_count": 5,
   "id": "4250f3a4",
   "metadata": {},
   "outputs": [],
   "source": [
    "texts = data[\"Text\"].tolist()\n",
    "labels = data[\"Emotions\"].tolist()\n",
    "\n",
    "# Tokenize the text data\n",
    "tokenizer = Tokenizer()\n",
    "tokenizer.fit_on_texts(texts)"
   ]
  },
  {
   "cell_type": "code",
   "execution_count": 6,
   "id": "398df3c3",
   "metadata": {},
   "outputs": [],
   "source": [
    "sequences = tokenizer.texts_to_sequences(texts)\n",
    "max_length = max([len(seq) for seq in sequences])\n",
    "padded_sequences = pad_sequences(sequences, maxlen=max_length)"
   ]
  },
  {
   "cell_type": "code",
   "execution_count": 7,
   "id": "6d6efeff",
   "metadata": {},
   "outputs": [],
   "source": [
    "# Encode the string labels to integers\n",
    "label_encoder = LabelEncoder()\n",
    "labels = label_encoder.fit_transform(labels)"
   ]
  },
  {
   "cell_type": "code",
   "execution_count": 8,
   "id": "19e28593",
   "metadata": {},
   "outputs": [],
   "source": [
    "# One-hot encode the labels\n",
    "one_hot_labels = keras.utils.to_categorical(labels)"
   ]
  },
  {
   "cell_type": "code",
   "execution_count": 9,
   "id": "c835ba25",
   "metadata": {},
   "outputs": [],
   "source": [
    "# Split the data into training and testing sets\n",
    "xtrain, xtest, ytrain, ytest = train_test_split(padded_sequences, \n",
    "                                                one_hot_labels, \n",
    "                                                test_size=0.2)"
   ]
  },
  {
   "cell_type": "code",
   "execution_count": 11,
   "id": "6207d098",
   "metadata": {},
   "outputs": [
    {
     "name": "stdout",
     "output_type": "stream",
     "text": [
      "WARNING:tensorflow:From C:\\Users\\ASUS\\anaconda3\\Lib\\site-packages\\keras\\src\\backend.py:873: The name tf.get_default_graph is deprecated. Please use tf.compat.v1.get_default_graph instead.\n",
      "\n",
      "WARNING:tensorflow:From C:\\Users\\ASUS\\anaconda3\\Lib\\site-packages\\keras\\src\\optimizers\\__init__.py:309: The name tf.train.Optimizer is deprecated. Please use tf.compat.v1.train.Optimizer instead.\n",
      "\n",
      "Epoch 1/10\n",
      "WARNING:tensorflow:From C:\\Users\\ASUS\\anaconda3\\Lib\\site-packages\\keras\\src\\utils\\tf_utils.py:492: The name tf.ragged.RaggedTensorValue is deprecated. Please use tf.compat.v1.ragged.RaggedTensorValue instead.\n",
      "\n",
      "WARNING:tensorflow:From C:\\Users\\ASUS\\anaconda3\\Lib\\site-packages\\keras\\src\\engine\\base_layer_utils.py:384: The name tf.executing_eagerly_outside_functions is deprecated. Please use tf.compat.v1.executing_eagerly_outside_functions instead.\n",
      "\n",
      "400/400 [==============================] - 11s 25ms/step - loss: 1.3476 - accuracy: 0.4801 - val_loss: 0.8565 - val_accuracy: 0.7159\n",
      "Epoch 2/10\n",
      "400/400 [==============================] - 10s 24ms/step - loss: 0.3430 - accuracy: 0.8913 - val_loss: 0.5502 - val_accuracy: 0.8169\n",
      "Epoch 3/10\n",
      "400/400 [==============================] - 10s 24ms/step - loss: 0.0587 - accuracy: 0.9848 - val_loss: 0.5957 - val_accuracy: 0.8159\n",
      "Epoch 4/10\n",
      "400/400 [==============================] - 10s 24ms/step - loss: 0.0238 - accuracy: 0.9950 - val_loss: 0.6255 - val_accuracy: 0.8194\n",
      "Epoch 5/10\n",
      "400/400 [==============================] - 10s 25ms/step - loss: 0.0164 - accuracy: 0.9964 - val_loss: 0.6435 - val_accuracy: 0.8209\n",
      "Epoch 6/10\n",
      "400/400 [==============================] - 10s 24ms/step - loss: 0.0123 - accuracy: 0.9974 - val_loss: 0.6784 - val_accuracy: 0.8184\n",
      "Epoch 7/10\n",
      "400/400 [==============================] - 10s 24ms/step - loss: 0.0128 - accuracy: 0.9971 - val_loss: 0.7134 - val_accuracy: 0.8147\n",
      "Epoch 8/10\n",
      "400/400 [==============================] - 10s 24ms/step - loss: 0.0132 - accuracy: 0.9968 - val_loss: 0.7230 - val_accuracy: 0.8188\n",
      "Epoch 9/10\n",
      "400/400 [==============================] - 10s 24ms/step - loss: 0.0098 - accuracy: 0.9974 - val_loss: 0.7991 - val_accuracy: 0.8138\n",
      "Epoch 10/10\n",
      "400/400 [==============================] - 10s 25ms/step - loss: 0.0094 - accuracy: 0.9972 - val_loss: 0.7816 - val_accuracy: 0.8194\n"
     ]
    },
    {
     "data": {
      "text/plain": [
       "<keras.src.callbacks.History at 0x1ff3e6c86d0>"
      ]
     },
     "execution_count": 11,
     "metadata": {},
     "output_type": "execute_result"
    }
   ],
   "source": [
    "# Define the model\n",
    "model = Sequential()\n",
    "model.add(Embedding(input_dim=len(tokenizer.word_index) + 1, \n",
    "                    output_dim=128, input_length=max_length))\n",
    "model.add(Flatten())\n",
    "model.add(Dense(units=128, activation=\"relu\"))\n",
    "model.add(Dense(units=len(one_hot_labels[0]), activation=\"softmax\"))\n",
    "\n",
    "model.compile(optimizer=\"adam\", loss=\"categorical_crossentropy\", metrics=[\"accuracy\"])\n",
    "model.fit(xtrain, ytrain, epochs=10, batch_size=32, validation_data=(xtest, ytest))"
   ]
  },
  {
   "cell_type": "code",
   "execution_count": 12,
   "id": "fbc2d91a",
   "metadata": {},
   "outputs": [
    {
     "name": "stdout",
     "output_type": "stream",
     "text": [
      "1/1 [==============================] - 0s 95ms/step\n",
      "['sadness']\n"
     ]
    }
   ],
   "source": [
    "input_text = \"She didn't come today because she lost her dog yestertay!\"\n",
    "\n",
    "# Preprocess the input text\n",
    "input_sequence = tokenizer.texts_to_sequences([input_text])\n",
    "padded_input_sequence = pad_sequences(input_sequence, maxlen=max_length)\n",
    "prediction = model.predict(padded_input_sequence)\n",
    "predicted_label = label_encoder.inverse_transform([np.argmax(prediction[0])])\n",
    "print(predicted_label)"
   ]
  },
  {
   "cell_type": "code",
   "execution_count": null,
   "id": "dfea8cdd",
   "metadata": {},
   "outputs": [],
   "source": []
  }
 ],
 "metadata": {
  "kernelspec": {
   "display_name": "Python 3 (ipykernel)",
   "language": "python",
   "name": "python3"
  },
  "language_info": {
   "codemirror_mode": {
    "name": "ipython",
    "version": 3
   },
   "file_extension": ".py",
   "mimetype": "text/x-python",
   "name": "python",
   "nbconvert_exporter": "python",
   "pygments_lexer": "ipython3",
   "version": "3.11.4"
  }
 },
 "nbformat": 4,
 "nbformat_minor": 5
}
